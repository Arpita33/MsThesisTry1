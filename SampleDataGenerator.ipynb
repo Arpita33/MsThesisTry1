{
 "cells": [
  {
   "cell_type": "code",
   "execution_count": 1,
   "id": "8ec6730f",
   "metadata": {},
   "outputs": [],
   "source": [
    "import random"
   ]
  },
  {
   "cell_type": "code",
   "execution_count": 2,
   "id": "ec800359",
   "metadata": {},
   "outputs": [],
   "source": [
    "demog_array = ['Gender', 'Race', 'Ethnicity','Age']\n",
    "variable_array = ['HCT', 'WBC_NUM', 'BUN', 'CREAT', 'PLT', 'HGB',\n",
    "       'BIL_TOT', 'ALT', 'ALKP', 'PROT_TOT', 'ALB_SER', 'AST',\n",
    "       'FIBR', 'LDH', 'PROCALC', 'FERR', 'LYMPH_NUM', 'LYMPH_PERC',\n",
    "       'BIL_DIR', 'Troponin T', 'LAC_SER', 'INR', 'PT', 'CK', 'CRP',\n",
    "       'D-Dimer FEU', 'ESR', 'CRP_S', 'D-Dimer DDU', 'aPTT', 'Troponin I',\n",
    "       'D-Dimer', 'IL6', 'FLU_TEST','C19_TEST', 'CORONA_TEST','AIDS/HIV', 'Any malignancy', 'Cerebrovascular disease',\n",
    "       'Chronic pulmonary disease', 'Congestive heart failure', 'Dementia',\n",
    "       'Diabetes with complications', 'Diabetes without complications',\n",
    "       'Hemiplegia or paraplegia', 'Metastatic solid tumor',\n",
    "       'Mild liver disease', 'Moderate or severe liver disease',\n",
    "       'Myocardial infarction', 'Peptic ulcer disease',\n",
    "       'Peripheral vascular disease', 'Renal disease', 'Rheumatic disease']\n"
   ]
  },
  {
   "cell_type": "code",
   "execution_count": 4,
   "id": "2b15c154",
   "metadata": {},
   "outputs": [],
   "source": [
    "for patient in range(1,101):\n",
    "    filename = \"./SampleDataset/\"+str(patient)+\".txt\"\n",
    "    f = open(filename,\"w\")\n",
    "    df = random.randint(0,1)\n",
    "    f.write(\"DEATH_FLAG=\"+str(df)+\"\\n\")\n",
    "    f.write(\"Time, Parameter, Value\\n\")\n",
    "    f.write(\"0.0,RecordID,\"+str(patient)+\"\\n\")\n",
    "    gender = random.randint(0,2)\n",
    "    f.write(\"0.0, Gender, \"+str(gender)+\"\\n\")\n",
    "    race = random.randint(0,7)\n",
    "    f.write(\"0.0, Race, \"+str(race)+\"\\n\")\n",
    "    eth= random.randint(0,2)\n",
    "    f.write(\"0.0, Ethnicity, \"+str(eth)+\"\\n\")\n",
    "    age = random.uniform(1, 85.5)\n",
    "    f.write(\"0.0, Age, \"+str(age)+\"\\n\")\n",
    "    time = 0 \n",
    "    num_records = random.randint(0,100)\n",
    "    for line in range(num_records):\n",
    "        time_inc_flag = random.randint(0,1)\n",
    "        if time_inc_flag==1:\n",
    "            time+=random.uniform(0, 50)\n",
    "        len_var_array = len(variable_array)\n",
    "        item_num = random.randint(0,len_var_array-1)\n",
    "        item = variable_array[item_num]\n",
    "        if item_num>35:\n",
    "            f.write(str(time)+\", \"+item+\", 1.0\\n\")\n",
    "        elif item_num<33:\n",
    "            val = random.uniform(0, 100)\n",
    "            f.write(str(time)+\", \"+item+\", \"+str(val)+\"\\n\")\n",
    "        else:\n",
    "            val = random.randint(0, 2)\n",
    "            f.write(str(time)+\", \"+item+\", \"+str(val)+\"\\n\")\n",
    "            \n",
    "    f.close()"
   ]
  },
  {
   "cell_type": "code",
   "execution_count": 20,
   "id": "a3f37645",
   "metadata": {},
   "outputs": [],
   "source": [
    "import numpy as np\n",
    "from sklearn.model_selection import KFold\n",
    "import os\n",
    "import shutil\n",
    "\n",
    "\n",
    "X = [i for i in range(1,101)]\n",
    "kf = KFold(n_splits=5)\n",
    "if not os.path.exists(\"k_folds\"):\n",
    "    os.mkdir(\"k_folds\")\n",
    "\n",
    "for i, (train_index, test_index) in enumerate(kf.split(X)):\n",
    "    #print(f\"Fold {i}:\")\n",
    "    if not os.path.exists(\"k_folds/k_\"+str(i+1)):\n",
    "        os.mkdir(\"k_folds/k_\"+str(i+1))\n",
    "    if not os.path.exists(\"k_folds/k_\"+str(i+1)+\"/Train\"):\n",
    "        os.mkdir(\"k_folds/k_\"+str(i+1)+\"/Train\") \n",
    "    if not os.path.exists(\"k_folds/k_\"+str(i+1)+\"/Validation\"):\n",
    "        os.mkdir(\"k_folds/k_\"+str(i+1)+\"/Validation\") \n",
    "    if not os.path.exists(\"k_folds/k_\"+str(i+1)+\"/Test\"):\n",
    "        os.mkdir(\"k_folds/k_\"+str(i+1)+\"/Test\") \n",
    "    #print(f\"  Train: index={train_index}\")\n",
    "    #print(f\"  Test:  index={test_index}\")\n",
    "    for idx in train_index:\n",
    "        origin = \"./SampleDataset/\"+str(idx+1)+\".txt\"\n",
    "        target = \"./k_folds/k_\"+str(i+1)+\"/Train/\"\n",
    "        shutil.copy(origin, target)\n",
    "    l = len(test_index)//2\n",
    "    for idx in test_index[:l]:\n",
    "        origin = \"./SampleDataset/\"+str(idx+1)+\".txt\"\n",
    "        target = \"./k_folds/k_\"+str(i+1)+\"/Test/\"\n",
    "        shutil.copy(origin, target)\n",
    "    for idx in test_index[l:]:\n",
    "        origin = \"./SampleDataset/\"+str(idx+1)+\".txt\"\n",
    "        target = \"./k_folds/k_\"+str(i+1)+\"/Validation/\"\n",
    "        shutil.copy(origin, target)\n",
    "    "
   ]
  }
 ],
 "metadata": {
  "kernelspec": {
   "display_name": "Python 3 (ipykernel)",
   "language": "python",
   "name": "python3"
  },
  "language_info": {
   "codemirror_mode": {
    "name": "ipython",
    "version": 3
   },
   "file_extension": ".py",
   "mimetype": "text/x-python",
   "name": "python",
   "nbconvert_exporter": "python",
   "pygments_lexer": "ipython3",
   "version": "3.9.7"
  }
 },
 "nbformat": 4,
 "nbformat_minor": 5
}
